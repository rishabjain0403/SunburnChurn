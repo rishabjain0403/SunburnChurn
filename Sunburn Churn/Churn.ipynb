{
 "cells": [
  {
   "cell_type": "code",
   "execution_count": 1,
   "id": "cbc28551",
   "metadata": {},
   "outputs": [],
   "source": [
    "import pandas as pd\n",
    "import numpy as np\n",
    "import matplotlib.pyplot as plt"
   ]
  },
  {
   "cell_type": "code",
   "execution_count": 2,
   "id": "b75f4c30",
   "metadata": {
    "scrolled": true
   },
   "outputs": [
    {
     "data": {
      "text/html": [
       "<div>\n",
       "<style scoped>\n",
       "    .dataframe tbody tr th:only-of-type {\n",
       "        vertical-align: middle;\n",
       "    }\n",
       "\n",
       "    .dataframe tbody tr th {\n",
       "        vertical-align: top;\n",
       "    }\n",
       "\n",
       "    .dataframe thead th {\n",
       "        text-align: right;\n",
       "    }\n",
       "</style>\n",
       "<table border=\"1\" class=\"dataframe\">\n",
       "  <thead>\n",
       "    <tr style=\"text-align: right;\">\n",
       "      <th></th>\n",
       "      <th>CustomerID</th>\n",
       "      <th>Name</th>\n",
       "      <th>Age</th>\n",
       "      <th>Gender</th>\n",
       "      <th>Location</th>\n",
       "      <th>Subscription_Length_Months</th>\n",
       "      <th>Monthly_Bill</th>\n",
       "      <th>Total_Usage_GB</th>\n",
       "      <th>Churn</th>\n",
       "    </tr>\n",
       "  </thead>\n",
       "  <tbody>\n",
       "    <tr>\n",
       "      <th>0</th>\n",
       "      <td>1</td>\n",
       "      <td>Customer_1</td>\n",
       "      <td>63</td>\n",
       "      <td>Male</td>\n",
       "      <td>Los Angeles</td>\n",
       "      <td>17</td>\n",
       "      <td>73.36</td>\n",
       "      <td>236</td>\n",
       "      <td>0</td>\n",
       "    </tr>\n",
       "    <tr>\n",
       "      <th>1</th>\n",
       "      <td>2</td>\n",
       "      <td>Customer_2</td>\n",
       "      <td>62</td>\n",
       "      <td>Female</td>\n",
       "      <td>New York</td>\n",
       "      <td>1</td>\n",
       "      <td>48.76</td>\n",
       "      <td>172</td>\n",
       "      <td>0</td>\n",
       "    </tr>\n",
       "    <tr>\n",
       "      <th>2</th>\n",
       "      <td>3</td>\n",
       "      <td>Customer_3</td>\n",
       "      <td>24</td>\n",
       "      <td>Female</td>\n",
       "      <td>Los Angeles</td>\n",
       "      <td>5</td>\n",
       "      <td>85.47</td>\n",
       "      <td>460</td>\n",
       "      <td>0</td>\n",
       "    </tr>\n",
       "    <tr>\n",
       "      <th>3</th>\n",
       "      <td>4</td>\n",
       "      <td>Customer_4</td>\n",
       "      <td>36</td>\n",
       "      <td>Female</td>\n",
       "      <td>Miami</td>\n",
       "      <td>3</td>\n",
       "      <td>97.94</td>\n",
       "      <td>297</td>\n",
       "      <td>1</td>\n",
       "    </tr>\n",
       "    <tr>\n",
       "      <th>4</th>\n",
       "      <td>5</td>\n",
       "      <td>Customer_5</td>\n",
       "      <td>46</td>\n",
       "      <td>Female</td>\n",
       "      <td>Miami</td>\n",
       "      <td>19</td>\n",
       "      <td>58.14</td>\n",
       "      <td>266</td>\n",
       "      <td>0</td>\n",
       "    </tr>\n",
       "  </tbody>\n",
       "</table>\n",
       "</div>"
      ],
      "text/plain": [
       "   CustomerID        Name  Age  Gender     Location  \\\n",
       "0           1  Customer_1   63    Male  Los Angeles   \n",
       "1           2  Customer_2   62  Female     New York   \n",
       "2           3  Customer_3   24  Female  Los Angeles   \n",
       "3           4  Customer_4   36  Female        Miami   \n",
       "4           5  Customer_5   46  Female        Miami   \n",
       "\n",
       "   Subscription_Length_Months  Monthly_Bill  Total_Usage_GB  Churn  \n",
       "0                          17         73.36             236      0  \n",
       "1                           1         48.76             172      0  \n",
       "2                           5         85.47             460      0  \n",
       "3                           3         97.94             297      1  \n",
       "4                          19         58.14             266      0  "
      ]
     },
     "execution_count": 2,
     "metadata": {},
     "output_type": "execute_result"
    }
   ],
   "source": [
    "df=pd.read_csv('customer_churn_large_dataset.csv')\n",
    "df.head()"
   ]
  },
  {
   "cell_type": "markdown",
   "id": "9fae50b8",
   "metadata": {},
   "source": [
    "# DATA PREPROCESSING"
   ]
  },
  {
   "cell_type": "markdown",
   "id": "b9752789",
   "metadata": {},
   "source": [
    "## Checking for missing values"
   ]
  },
  {
   "cell_type": "code",
   "execution_count": 3,
   "id": "caf6ea37",
   "metadata": {},
   "outputs": [
    {
     "data": {
      "text/plain": [
       "CustomerID                    0\n",
       "Name                          0\n",
       "Age                           0\n",
       "Gender                        0\n",
       "Location                      0\n",
       "Subscription_Length_Months    0\n",
       "Monthly_Bill                  0\n",
       "Total_Usage_GB                0\n",
       "Churn                         0\n",
       "dtype: int64"
      ]
     },
     "execution_count": 3,
     "metadata": {},
     "output_type": "execute_result"
    }
   ],
   "source": [
    "df.isna().sum()"
   ]
  },
  {
   "cell_type": "markdown",
   "id": "ca143726",
   "metadata": {},
   "source": [
    "## Checking for duplicate Values"
   ]
  },
  {
   "cell_type": "code",
   "execution_count": 38,
   "id": "5150ab4b",
   "metadata": {},
   "outputs": [
    {
     "data": {
      "text/plain": [
       "0"
      ]
     },
     "execution_count": 38,
     "metadata": {},
     "output_type": "execute_result"
    }
   ],
   "source": [
    "df.duplicated().sum()"
   ]
  },
  {
   "cell_type": "markdown",
   "id": "b81a410e",
   "metadata": {},
   "source": [
    "    #### NO duplicate values as well"
   ]
  },
  {
   "cell_type": "code",
   "execution_count": 5,
   "id": "dfd8dad7",
   "metadata": {},
   "outputs": [
    {
     "name": "stdout",
     "output_type": "stream",
     "text": [
      "<class 'pandas.core.frame.DataFrame'>\n",
      "RangeIndex: 100000 entries, 0 to 99999\n",
      "Data columns (total 9 columns):\n",
      " #   Column                      Non-Null Count   Dtype  \n",
      "---  ------                      --------------   -----  \n",
      " 0   CustomerID                  100000 non-null  int64  \n",
      " 1   Name                        100000 non-null  object \n",
      " 2   Age                         100000 non-null  int64  \n",
      " 3   Gender                      100000 non-null  object \n",
      " 4   Location                    100000 non-null  object \n",
      " 5   Subscription_Length_Months  100000 non-null  int64  \n",
      " 6   Monthly_Bill                100000 non-null  float64\n",
      " 7   Total_Usage_GB              100000 non-null  int64  \n",
      " 8   Churn                       100000 non-null  int64  \n",
      "dtypes: float64(1), int64(5), object(3)\n",
      "memory usage: 6.9+ MB\n"
     ]
    }
   ],
   "source": [
    "df.info()"
   ]
  },
  {
   "cell_type": "markdown",
   "id": "cd845495",
   "metadata": {},
   "source": [
    "## Check for Unique values in every columns"
   ]
  },
  {
   "cell_type": "code",
   "execution_count": 6,
   "id": "d13b51a1",
   "metadata": {},
   "outputs": [
    {
     "data": {
      "text/plain": [
       "CustomerID                    100000\n",
       "Name                          100000\n",
       "Age                               53\n",
       "Gender                             2\n",
       "Location                           5\n",
       "Subscription_Length_Months        24\n",
       "Monthly_Bill                    7001\n",
       "Total_Usage_GB                   451\n",
       "Churn                              2\n",
       "dtype: int64"
      ]
     },
     "execution_count": 6,
     "metadata": {},
     "output_type": "execute_result"
    }
   ],
   "source": [
    "df.nunique()"
   ]
  },
  {
   "cell_type": "code",
   "execution_count": 7,
   "id": "6dba5288",
   "metadata": {},
   "outputs": [
    {
     "data": {
      "text/html": [
       "<div>\n",
       "<style scoped>\n",
       "    .dataframe tbody tr th:only-of-type {\n",
       "        vertical-align: middle;\n",
       "    }\n",
       "\n",
       "    .dataframe tbody tr th {\n",
       "        vertical-align: top;\n",
       "    }\n",
       "\n",
       "    .dataframe thead th {\n",
       "        text-align: right;\n",
       "    }\n",
       "</style>\n",
       "<table border=\"1\" class=\"dataframe\">\n",
       "  <thead>\n",
       "    <tr style=\"text-align: right;\">\n",
       "      <th></th>\n",
       "      <th>CustomerID</th>\n",
       "      <th>Age</th>\n",
       "      <th>Subscription_Length_Months</th>\n",
       "      <th>Monthly_Bill</th>\n",
       "      <th>Total_Usage_GB</th>\n",
       "      <th>Churn</th>\n",
       "    </tr>\n",
       "  </thead>\n",
       "  <tbody>\n",
       "    <tr>\n",
       "      <th>count</th>\n",
       "      <td>100000.000000</td>\n",
       "      <td>100000.000000</td>\n",
       "      <td>100000.000000</td>\n",
       "      <td>100000.000000</td>\n",
       "      <td>100000.000000</td>\n",
       "      <td>100000.000000</td>\n",
       "    </tr>\n",
       "    <tr>\n",
       "      <th>mean</th>\n",
       "      <td>50000.500000</td>\n",
       "      <td>44.027020</td>\n",
       "      <td>12.490100</td>\n",
       "      <td>65.053197</td>\n",
       "      <td>274.393650</td>\n",
       "      <td>0.497790</td>\n",
       "    </tr>\n",
       "    <tr>\n",
       "      <th>std</th>\n",
       "      <td>28867.657797</td>\n",
       "      <td>15.280283</td>\n",
       "      <td>6.926461</td>\n",
       "      <td>20.230696</td>\n",
       "      <td>130.463063</td>\n",
       "      <td>0.499998</td>\n",
       "    </tr>\n",
       "    <tr>\n",
       "      <th>min</th>\n",
       "      <td>1.000000</td>\n",
       "      <td>18.000000</td>\n",
       "      <td>1.000000</td>\n",
       "      <td>30.000000</td>\n",
       "      <td>50.000000</td>\n",
       "      <td>0.000000</td>\n",
       "    </tr>\n",
       "    <tr>\n",
       "      <th>25%</th>\n",
       "      <td>25000.750000</td>\n",
       "      <td>31.000000</td>\n",
       "      <td>6.000000</td>\n",
       "      <td>47.540000</td>\n",
       "      <td>161.000000</td>\n",
       "      <td>0.000000</td>\n",
       "    </tr>\n",
       "    <tr>\n",
       "      <th>50%</th>\n",
       "      <td>50000.500000</td>\n",
       "      <td>44.000000</td>\n",
       "      <td>12.000000</td>\n",
       "      <td>65.010000</td>\n",
       "      <td>274.000000</td>\n",
       "      <td>0.000000</td>\n",
       "    </tr>\n",
       "    <tr>\n",
       "      <th>75%</th>\n",
       "      <td>75000.250000</td>\n",
       "      <td>57.000000</td>\n",
       "      <td>19.000000</td>\n",
       "      <td>82.640000</td>\n",
       "      <td>387.000000</td>\n",
       "      <td>1.000000</td>\n",
       "    </tr>\n",
       "    <tr>\n",
       "      <th>max</th>\n",
       "      <td>100000.000000</td>\n",
       "      <td>70.000000</td>\n",
       "      <td>24.000000</td>\n",
       "      <td>100.000000</td>\n",
       "      <td>500.000000</td>\n",
       "      <td>1.000000</td>\n",
       "    </tr>\n",
       "  </tbody>\n",
       "</table>\n",
       "</div>"
      ],
      "text/plain": [
       "          CustomerID            Age  Subscription_Length_Months  \\\n",
       "count  100000.000000  100000.000000               100000.000000   \n",
       "mean    50000.500000      44.027020                   12.490100   \n",
       "std     28867.657797      15.280283                    6.926461   \n",
       "min         1.000000      18.000000                    1.000000   \n",
       "25%     25000.750000      31.000000                    6.000000   \n",
       "50%     50000.500000      44.000000                   12.000000   \n",
       "75%     75000.250000      57.000000                   19.000000   \n",
       "max    100000.000000      70.000000                   24.000000   \n",
       "\n",
       "        Monthly_Bill  Total_Usage_GB          Churn  \n",
       "count  100000.000000   100000.000000  100000.000000  \n",
       "mean       65.053197      274.393650       0.497790  \n",
       "std        20.230696      130.463063       0.499998  \n",
       "min        30.000000       50.000000       0.000000  \n",
       "25%        47.540000      161.000000       0.000000  \n",
       "50%        65.010000      274.000000       0.000000  \n",
       "75%        82.640000      387.000000       1.000000  \n",
       "max       100.000000      500.000000       1.000000  "
      ]
     },
     "execution_count": 7,
     "metadata": {},
     "output_type": "execute_result"
    }
   ],
   "source": [
    "df.describe()"
   ]
  },
  {
   "cell_type": "code",
   "execution_count": 8,
   "id": "a93468e2",
   "metadata": {},
   "outputs": [
    {
     "name": "stdout",
     "output_type": "stream",
     "text": [
      "Categories in Location variable['Los Angeles' 'New York' 'Miami' 'Chicago' 'Houston']\n"
     ]
    }
   ],
   "source": [
    "print(\"Categories in Location variable\",end=\"\")\n",
    "print(df['Location'].unique())"
   ]
  },
  {
   "cell_type": "markdown",
   "id": "ae12721a",
   "metadata": {},
   "source": [
    "## Checking for numerical as well as categorical features"
   ]
  },
  {
   "cell_type": "code",
   "execution_count": 9,
   "id": "176b408e",
   "metadata": {},
   "outputs": [
    {
     "name": "stdout",
     "output_type": "stream",
     "text": [
      "We have6 numerical feature:['CustomerID', 'Age', 'Subscription_Length_Months', 'Monthly_Bill', 'Total_Usage_GB', 'Churn']\n",
      "We have3 categorical feature:['Name', 'Gender', 'Location']\n"
     ]
    }
   ],
   "source": [
    "numeric=[feature for feature in df.columns if df[feature].dtype!='O']\n",
    "categorical=[feature for feature in df.columns if df[feature].dtype=='O']\n",
    "\n",
    "print(\"We have{} numerical feature:{}\".format(len(numeric),numeric))\n",
    "print(\"We have{} categorical feature:{}\".format(len(categorical),categorical))"
   ]
  },
  {
   "cell_type": "markdown",
   "id": "5e50be75",
   "metadata": {},
   "source": [
    "# FEATURE ENGINEERING AND DATA VISUALIZATION "
   ]
  },
  {
   "cell_type": "code",
   "execution_count": 10,
   "id": "37bbb9bf",
   "metadata": {},
   "outputs": [
    {
     "name": "stderr",
     "output_type": "stream",
     "text": [
      "C:\\Users\\Asus\\anaconda3\\lib\\site-packages\\scipy\\__init__.py:146: UserWarning: A NumPy version >=1.16.5 and <1.23.0 is required for this version of SciPy (detected version 1.24.3\n",
      "  warnings.warn(f\"A NumPy version >={np_minversion} and <{np_maxversion}\"\n"
     ]
    },
    {
     "data": {
      "image/png": "[encoded data removed]",
      "text/plain": [
       "<Figure size 1080x504 with 2 Axes>"
      ]
     },
     "metadata": {
      "needs_background": "light"
     },
     "output_type": "display_data"
    }
   ],
   "source": [
    "import seaborn as sns\n",
    "fig, axs = plt.subplots(1, 2, figsize=(15, 7))\n",
    "plt.subplot(121)\n",
    "sns.histplot(data=df,x='Gender',bins=30,kde=True,color='g')\n",
    "plt.subplot(122)\n",
    "sns.histplot(data=df,x='Gender',kde=True,hue='Location')\n",
    "plt.show()"
   ]
  },
  {
   "cell_type": "code",
   "execution_count": 11,
   "id": "c61c212f",
   "metadata": {},
   "outputs": [
    {
     "data": {
      "image/png": "[encoded data removed]",
      "text/plain": [
       "<Figure size 720x576 with 2 Axes>"
      ]
     },
     "metadata": {
      "needs_background": "light"
     },
     "output_type": "display_data"
    }
   ],
   "source": [
    "import pandas as pd\n",
    "import numpy as np\n",
    "import seaborn as sns\n",
    "import matplotlib.pyplot as plt\n",
    "\n",
    "\n",
    "correlation_matrix = df.corr()\n",
    "\n",
    "\n",
    "plt.figure(figsize=(10, 8))\n",
    "sns.heatmap(correlation_matrix, annot=True, cmap='coolwarm', linewidths=0.5)\n",
    "plt.title('Correlation Heatmap')\n",
    "plt.show()\n",
    "\n"
   ]
  },
  {
   "cell_type": "markdown",
   "id": "7b4629ec",
   "metadata": {},
   "source": [
    "#### The heatmap clearly states that the Churn has good corelation which evry features except the customer id and Total_Usage_GB"
   ]
  },
  {
   "cell_type": "markdown",
   "id": "036bd863",
   "metadata": {},
   "source": [
    "# Checkiing the Outlier"
   ]
  },
  {
   "cell_type": "code",
   "execution_count": 12,
   "id": "4a3fd54e",
   "metadata": {},
   "outputs": [
    {
     "name": "stderr",
     "output_type": "stream",
     "text": [
      "C:\\Users\\Asus\\anaconda3\\lib\\site-packages\\seaborn\\_decorators.py:36: FutureWarning: Pass the following variable as a keyword arg: x. From version 0.12, the only valid positional argument will be `data`, and passing other arguments without an explicit keyword will result in an error or misinterpretation.\n",
      "  warnings.warn(\n",
      "C:\\Users\\Asus\\anaconda3\\lib\\site-packages\\seaborn\\_decorators.py:36: FutureWarning: Pass the following variable as a keyword arg: x. From version 0.12, the only valid positional argument will be `data`, and passing other arguments without an explicit keyword will result in an error or misinterpretation.\n",
      "  warnings.warn(\n",
      "C:\\Users\\Asus\\anaconda3\\lib\\site-packages\\seaborn\\_decorators.py:36: FutureWarning: Pass the following variable as a keyword arg: x. From version 0.12, the only valid positional argument will be `data`, and passing other arguments without an explicit keyword will result in an error or misinterpretation.\n",
      "  warnings.warn(\n",
      "C:\\Users\\Asus\\anaconda3\\lib\\site-packages\\seaborn\\_decorators.py:36: FutureWarning: Pass the following variable as a keyword arg: x. From version 0.12, the only valid positional argument will be `data`, and passing other arguments without an explicit keyword will result in an error or misinterpretation.\n",
      "  warnings.warn(\n"
     ]
    },
    {
     "data": {
      "image/png": "[encoded data removed]",
      "text/plain": [
       "<Figure size 1152x360 with 4 Axes>"
      ]
     },
     "metadata": {
      "needs_background": "light"
     },
     "output_type": "display_data"
    }
   ],
   "source": [
    "plt.subplots(1,4,figsize=(16,5))\n",
    "plt.subplot(141)\n",
    "sns.boxplot(df['Age'],color='skyblue')\n",
    "plt.subplot(142)\n",
    "sns.boxplot(df['Total_Usage_GB'],color='hotpink')\n",
    "plt.subplot(143)\n",
    "sns.boxplot(df['Subscription_Length_Months'],color='yellow')\n",
    "plt.subplot(144)\n",
    "sns.boxplot(df['Monthly_Bill'],color='lightgreen')\n",
    "plt.show()"
   ]
  },
  {
   "cell_type": "markdown",
   "id": "8591d0d6",
   "metadata": {},
   "source": [
    "## Converting the Categorical Value to Numerical using Ordinal Encoder"
   ]
  },
  {
   "cell_type": "code",
   "execution_count": 13,
   "id": "4927971a",
   "metadata": {},
   "outputs": [
    {
     "name": "stdout",
     "output_type": "stream",
     "text": [
      "       CustomerID             Name  Age  Gender     Location  \\\n",
      "0               1       Customer_1   63    Male  Los Angeles   \n",
      "1               2       Customer_2   62  Female     New York   \n",
      "2               3       Customer_3   24  Female  Los Angeles   \n",
      "3               4       Customer_4   36  Female        Miami   \n",
      "4               5       Customer_5   46  Female        Miami   \n",
      "...           ...              ...  ...     ...          ...   \n",
      "99995       99996   Customer_99996   33    Male      Houston   \n",
      "99996       99997   Customer_99997   62  Female     New York   \n",
      "99997       99998   Customer_99998   64    Male      Chicago   \n",
      "99998       99999   Customer_99999   51  Female     New York   \n",
      "99999      100000  Customer_100000   27  Female  Los Angeles   \n",
      "\n",
      "       Subscription_Length_Months  Monthly_Bill  Total_Usage_GB  Churn  \\\n",
      "0                              17         73.36             236      0   \n",
      "1                               1         48.76             172      0   \n",
      "2                               5         85.47             460      0   \n",
      "3                               3         97.94             297      1   \n",
      "4                              19         58.14             266      0   \n",
      "...                           ...           ...             ...    ...   \n",
      "99995                          23         55.13             226      1   \n",
      "99996                          19         61.65             351      0   \n",
      "99997                          17         96.11             251      1   \n",
      "99998                          20         49.25             434      1   \n",
      "99999                          19         76.57             173      1   \n",
      "\n",
      "       gender_encoded  \n",
      "0                 1.0  \n",
      "1                 0.0  \n",
      "2                 0.0  \n",
      "3                 0.0  \n",
      "4                 0.0  \n",
      "...               ...  \n",
      "99995             1.0  \n",
      "99996             0.0  \n",
      "99997             1.0  \n",
      "99998             0.0  \n",
      "99999             0.0  \n",
      "\n",
      "[100000 rows x 10 columns]\n"
     ]
    }
   ],
   "source": [
    "from sklearn.preprocessing import OrdinalEncoder\n",
    "\n",
    "# Initialize the OrdinalEncoder\n",
    "encoder = OrdinalEncoder()\n",
    "\n",
    "# Assuming 'Gender' is the column name in your DataFrame 'df'\n",
    "df['gender_encoded'] = encoder.fit_transform(df[['Gender']])\n",
    "\n",
    "# Display the DataFrame with encoded values\n",
    "print(df)\n"
   ]
  },
  {
   "cell_type": "code",
   "execution_count": 14,
   "id": "bac9ef4c",
   "metadata": {},
   "outputs": [
    {
     "data": {
      "text/html": [
       "<div>\n",
       "<style scoped>\n",
       "    .dataframe tbody tr th:only-of-type {\n",
       "        vertical-align: middle;\n",
       "    }\n",
       "\n",
       "    .dataframe tbody tr th {\n",
       "        vertical-align: top;\n",
       "    }\n",
       "\n",
       "    .dataframe thead th {\n",
       "        text-align: right;\n",
       "    }\n",
       "</style>\n",
       "<table border=\"1\" class=\"dataframe\">\n",
       "  <thead>\n",
       "    <tr style=\"text-align: right;\">\n",
       "      <th></th>\n",
       "      <th>CustomerID</th>\n",
       "      <th>Name</th>\n",
       "      <th>Age</th>\n",
       "      <th>Gender</th>\n",
       "      <th>Location</th>\n",
       "      <th>Subscription_Length_Months</th>\n",
       "      <th>Monthly_Bill</th>\n",
       "      <th>Total_Usage_GB</th>\n",
       "      <th>Churn</th>\n",
       "      <th>gender_encoded</th>\n",
       "    </tr>\n",
       "  </thead>\n",
       "  <tbody>\n",
       "    <tr>\n",
       "      <th>0</th>\n",
       "      <td>1</td>\n",
       "      <td>Customer_1</td>\n",
       "      <td>63</td>\n",
       "      <td>Male</td>\n",
       "      <td>Los Angeles</td>\n",
       "      <td>17</td>\n",
       "      <td>73.36</td>\n",
       "      <td>236</td>\n",
       "      <td>0</td>\n",
       "      <td>1.0</td>\n",
       "    </tr>\n",
       "    <tr>\n",
       "      <th>1</th>\n",
       "      <td>2</td>\n",
       "      <td>Customer_2</td>\n",
       "      <td>62</td>\n",
       "      <td>Female</td>\n",
       "      <td>New York</td>\n",
       "      <td>1</td>\n",
       "      <td>48.76</td>\n",
       "      <td>172</td>\n",
       "      <td>0</td>\n",
       "      <td>0.0</td>\n",
       "    </tr>\n",
       "    <tr>\n",
       "      <th>2</th>\n",
       "      <td>3</td>\n",
       "      <td>Customer_3</td>\n",
       "      <td>24</td>\n",
       "      <td>Female</td>\n",
       "      <td>Los Angeles</td>\n",
       "      <td>5</td>\n",
       "      <td>85.47</td>\n",
       "      <td>460</td>\n",
       "      <td>0</td>\n",
       "      <td>0.0</td>\n",
       "    </tr>\n",
       "    <tr>\n",
       "      <th>3</th>\n",
       "      <td>4</td>\n",
       "      <td>Customer_4</td>\n",
       "      <td>36</td>\n",
       "      <td>Female</td>\n",
       "      <td>Miami</td>\n",
       "      <td>3</td>\n",
       "      <td>97.94</td>\n",
       "      <td>297</td>\n",
       "      <td>1</td>\n",
       "      <td>0.0</td>\n",
       "    </tr>\n",
       "    <tr>\n",
       "      <th>4</th>\n",
       "      <td>5</td>\n",
       "      <td>Customer_5</td>\n",
       "      <td>46</td>\n",
       "      <td>Female</td>\n",
       "      <td>Miami</td>\n",
       "      <td>19</td>\n",
       "      <td>58.14</td>\n",
       "      <td>266</td>\n",
       "      <td>0</td>\n",
       "      <td>0.0</td>\n",
       "    </tr>\n",
       "  </tbody>\n",
       "</table>\n",
       "</div>"
      ],
      "text/plain": [
       "   CustomerID        Name  Age  Gender     Location  \\\n",
       "0           1  Customer_1   63    Male  Los Angeles   \n",
       "1           2  Customer_2   62  Female     New York   \n",
       "2           3  Customer_3   24  Female  Los Angeles   \n",
       "3           4  Customer_4   36  Female        Miami   \n",
       "4           5  Customer_5   46  Female        Miami   \n",
       "\n",
       "   Subscription_Length_Months  Monthly_Bill  Total_Usage_GB  Churn  \\\n",
       "0                          17         73.36             236      0   \n",
       "1                           1         48.76             172      0   \n",
       "2                           5         85.47             460      0   \n",
       "3                           3         97.94             297      1   \n",
       "4                          19         58.14             266      0   \n",
       "\n",
       "   gender_encoded  \n",
       "0             1.0  \n",
       "1             0.0  \n",
       "2             0.0  \n",
       "3             0.0  \n",
       "4             0.0  "
      ]
     },
     "execution_count": 14,
     "metadata": {},
     "output_type": "execute_result"
    }
   ],
   "source": [
    "df.head()"
   ]
  },
  {
   "cell_type": "code",
   "execution_count": 15,
   "id": "90e2dc90",
   "metadata": {},
   "outputs": [
    {
     "name": "stdout",
     "output_type": "stream",
     "text": [
      "       CustomerID             Name  Age  Gender     Location  \\\n",
      "0               1       Customer_1   63    Male  Los Angeles   \n",
      "1               2       Customer_2   62  Female     New York   \n",
      "2               3       Customer_3   24  Female  Los Angeles   \n",
      "3               4       Customer_4   36  Female        Miami   \n",
      "4               5       Customer_5   46  Female        Miami   \n",
      "...           ...              ...  ...     ...          ...   \n",
      "99995       99996   Customer_99996   33    Male      Houston   \n",
      "99996       99997   Customer_99997   62  Female     New York   \n",
      "99997       99998   Customer_99998   64    Male      Chicago   \n",
      "99998       99999   Customer_99999   51  Female     New York   \n",
      "99999      100000  Customer_100000   27  Female  Los Angeles   \n",
      "\n",
      "       Subscription_Length_Months  Monthly_Bill  Total_Usage_GB  Churn  \\\n",
      "0                              17         73.36             236      0   \n",
      "1                               1         48.76             172      0   \n",
      "2                               5         85.47             460      0   \n",
      "3                               3         97.94             297      1   \n",
      "4                              19         58.14             266      0   \n",
      "...                           ...           ...             ...    ...   \n",
      "99995                          23         55.13             226      1   \n",
      "99996                          19         61.65             351      0   \n",
      "99997                          17         96.11             251      1   \n",
      "99998                          20         49.25             434      1   \n",
      "99999                          19         76.57             173      1   \n",
      "\n",
      "       gender_encoded  Location_encoded  \n",
      "0                 1.0               2.0  \n",
      "1                 0.0               4.0  \n",
      "2                 0.0               2.0  \n",
      "3                 0.0               3.0  \n",
      "4                 0.0               3.0  \n",
      "...               ...               ...  \n",
      "99995             1.0               1.0  \n",
      "99996             0.0               4.0  \n",
      "99997             1.0               0.0  \n",
      "99998             0.0               4.0  \n",
      "99999             0.0               2.0  \n",
      "\n",
      "[100000 rows x 11 columns]\n"
     ]
    }
   ],
   "source": [
    "from sklearn.preprocessing import OrdinalEncoder\n",
    "\n",
    "\n",
    "encoder = OrdinalEncoder()\n",
    "df['Location_encoded'] = encoder.fit_transform(df[['Location']])\n",
    "print(df)\n"
   ]
  },
  {
   "cell_type": "code",
   "execution_count": 16,
   "id": "89664263",
   "metadata": {},
   "outputs": [
    {
     "data": {
      "text/html": [
       "<div>\n",
       "<style scoped>\n",
       "    .dataframe tbody tr th:only-of-type {\n",
       "        vertical-align: middle;\n",
       "    }\n",
       "\n",
       "    .dataframe tbody tr th {\n",
       "        vertical-align: top;\n",
       "    }\n",
       "\n",
       "    .dataframe thead th {\n",
       "        text-align: right;\n",
       "    }\n",
       "</style>\n",
       "<table border=\"1\" class=\"dataframe\">\n",
       "  <thead>\n",
       "    <tr style=\"text-align: right;\">\n",
       "      <th></th>\n",
       "      <th>CustomerID</th>\n",
       "      <th>Name</th>\n",
       "      <th>Age</th>\n",
       "      <th>Gender</th>\n",
       "      <th>Location</th>\n",
       "      <th>Subscription_Length_Months</th>\n",
       "      <th>Monthly_Bill</th>\n",
       "      <th>Total_Usage_GB</th>\n",
       "      <th>Churn</th>\n",
       "      <th>gender_encoded</th>\n",
       "      <th>Location_encoded</th>\n",
       "    </tr>\n",
       "  </thead>\n",
       "  <tbody>\n",
       "    <tr>\n",
       "      <th>0</th>\n",
       "      <td>1</td>\n",
       "      <td>Customer_1</td>\n",
       "      <td>63</td>\n",
       "      <td>Male</td>\n",
       "      <td>Los Angeles</td>\n",
       "      <td>17</td>\n",
       "      <td>73.36</td>\n",
       "      <td>236</td>\n",
       "      <td>0</td>\n",
       "      <td>1.0</td>\n",
       "      <td>2.0</td>\n",
       "    </tr>\n",
       "    <tr>\n",
       "      <th>1</th>\n",
       "      <td>2</td>\n",
       "      <td>Customer_2</td>\n",
       "      <td>62</td>\n",
       "      <td>Female</td>\n",
       "      <td>New York</td>\n",
       "      <td>1</td>\n",
       "      <td>48.76</td>\n",
       "      <td>172</td>\n",
       "      <td>0</td>\n",
       "      <td>0.0</td>\n",
       "      <td>4.0</td>\n",
       "    </tr>\n",
       "    <tr>\n",
       "      <th>2</th>\n",
       "      <td>3</td>\n",
       "      <td>Customer_3</td>\n",
       "      <td>24</td>\n",
       "      <td>Female</td>\n",
       "      <td>Los Angeles</td>\n",
       "      <td>5</td>\n",
       "      <td>85.47</td>\n",
       "      <td>460</td>\n",
       "      <td>0</td>\n",
       "      <td>0.0</td>\n",
       "      <td>2.0</td>\n",
       "    </tr>\n",
       "    <tr>\n",
       "      <th>3</th>\n",
       "      <td>4</td>\n",
       "      <td>Customer_4</td>\n",
       "      <td>36</td>\n",
       "      <td>Female</td>\n",
       "      <td>Miami</td>\n",
       "      <td>3</td>\n",
       "      <td>97.94</td>\n",
       "      <td>297</td>\n",
       "      <td>1</td>\n",
       "      <td>0.0</td>\n",
       "      <td>3.0</td>\n",
       "    </tr>\n",
       "    <tr>\n",
       "      <th>4</th>\n",
       "      <td>5</td>\n",
       "      <td>Customer_5</td>\n",
       "      <td>46</td>\n",
       "      <td>Female</td>\n",
       "      <td>Miami</td>\n",
       "      <td>19</td>\n",
       "      <td>58.14</td>\n",
       "      <td>266</td>\n",
       "      <td>0</td>\n",
       "      <td>0.0</td>\n",
       "      <td>3.0</td>\n",
       "    </tr>\n",
       "  </tbody>\n",
       "</table>\n",
       "</div>"
      ],
      "text/plain": [
       "   CustomerID        Name  Age  Gender     Location  \\\n",
       "0           1  Customer_1   63    Male  Los Angeles   \n",
       "1           2  Customer_2   62  Female     New York   \n",
       "2           3  Customer_3   24  Female  Los Angeles   \n",
       "3           4  Customer_4   36  Female        Miami   \n",
       "4           5  Customer_5   46  Female        Miami   \n",
       "\n",
       "   Subscription_Length_Months  Monthly_Bill  Total_Usage_GB  Churn  \\\n",
       "0                          17         73.36             236      0   \n",
       "1                           1         48.76             172      0   \n",
       "2                           5         85.47             460      0   \n",
       "3                           3         97.94             297      1   \n",
       "4                          19         58.14             266      0   \n",
       "\n",
       "   gender_encoded  Location_encoded  \n",
       "0             1.0               2.0  \n",
       "1             0.0               4.0  \n",
       "2             0.0               2.0  \n",
       "3             0.0               3.0  \n",
       "4             0.0               3.0  "
      ]
     },
     "execution_count": 16,
     "metadata": {},
     "output_type": "execute_result"
    }
   ],
   "source": [
    "df.head()"
   ]
  },
  {
   "cell_type": "markdown",
   "id": "a54e0b4e",
   "metadata": {},
   "source": [
    "### For male: Value is 1 and For Female it is 0"
   ]
  },
  {
   "cell_type": "markdown",
   "id": "1e3eaead",
   "metadata": {},
   "source": [
    "### For Location: Los Angeles=2, New York:4, Miami:3,Houston:1, Chicago:0"
   ]
  },
  {
   "cell_type": "code",
   "execution_count": 17,
   "id": "6e325dfb",
   "metadata": {},
   "outputs": [
    {
     "data": {
      "text/html": [
       "<div>\n",
       "<style scoped>\n",
       "    .dataframe tbody tr th:only-of-type {\n",
       "        vertical-align: middle;\n",
       "    }\n",
       "\n",
       "    .dataframe tbody tr th {\n",
       "        vertical-align: top;\n",
       "    }\n",
       "\n",
       "    .dataframe thead th {\n",
       "        text-align: right;\n",
       "    }\n",
       "</style>\n",
       "<table border=\"1\" class=\"dataframe\">\n",
       "  <thead>\n",
       "    <tr style=\"text-align: right;\">\n",
       "      <th></th>\n",
       "      <th>CustomerID</th>\n",
       "      <th>Name</th>\n",
       "      <th>Age</th>\n",
       "      <th>Subscription_Length_Months</th>\n",
       "      <th>Monthly_Bill</th>\n",
       "      <th>Total_Usage_GB</th>\n",
       "      <th>Churn</th>\n",
       "      <th>gender_encoded</th>\n",
       "      <th>Location_encoded</th>\n",
       "    </tr>\n",
       "  </thead>\n",
       "  <tbody>\n",
       "    <tr>\n",
       "      <th>0</th>\n",
       "      <td>1</td>\n",
       "      <td>Customer_1</td>\n",
       "      <td>63</td>\n",
       "      <td>17</td>\n",
       "      <td>73.36</td>\n",
       "      <td>236</td>\n",
       "      <td>0</td>\n",
       "      <td>1.0</td>\n",
       "      <td>2.0</td>\n",
       "    </tr>\n",
       "    <tr>\n",
       "      <th>1</th>\n",
       "      <td>2</td>\n",
       "      <td>Customer_2</td>\n",
       "      <td>62</td>\n",
       "      <td>1</td>\n",
       "      <td>48.76</td>\n",
       "      <td>172</td>\n",
       "      <td>0</td>\n",
       "      <td>0.0</td>\n",
       "      <td>4.0</td>\n",
       "    </tr>\n",
       "    <tr>\n",
       "      <th>2</th>\n",
       "      <td>3</td>\n",
       "      <td>Customer_3</td>\n",
       "      <td>24</td>\n",
       "      <td>5</td>\n",
       "      <td>85.47</td>\n",
       "      <td>460</td>\n",
       "      <td>0</td>\n",
       "      <td>0.0</td>\n",
       "      <td>2.0</td>\n",
       "    </tr>\n",
       "    <tr>\n",
       "      <th>3</th>\n",
       "      <td>4</td>\n",
       "      <td>Customer_4</td>\n",
       "      <td>36</td>\n",
       "      <td>3</td>\n",
       "      <td>97.94</td>\n",
       "      <td>297</td>\n",
       "      <td>1</td>\n",
       "      <td>0.0</td>\n",
       "      <td>3.0</td>\n",
       "    </tr>\n",
       "    <tr>\n",
       "      <th>4</th>\n",
       "      <td>5</td>\n",
       "      <td>Customer_5</td>\n",
       "      <td>46</td>\n",
       "      <td>19</td>\n",
       "      <td>58.14</td>\n",
       "      <td>266</td>\n",
       "      <td>0</td>\n",
       "      <td>0.0</td>\n",
       "      <td>3.0</td>\n",
       "    </tr>\n",
       "  </tbody>\n",
       "</table>\n",
       "</div>"
      ],
      "text/plain": [
       "   CustomerID        Name  Age  Subscription_Length_Months  Monthly_Bill  \\\n",
       "0           1  Customer_1   63                          17         73.36   \n",
       "1           2  Customer_2   62                           1         48.76   \n",
       "2           3  Customer_3   24                           5         85.47   \n",
       "3           4  Customer_4   36                           3         97.94   \n",
       "4           5  Customer_5   46                          19         58.14   \n",
       "\n",
       "   Total_Usage_GB  Churn  gender_encoded  Location_encoded  \n",
       "0             236      0             1.0               2.0  \n",
       "1             172      0             0.0               4.0  \n",
       "2             460      0             0.0               2.0  \n",
       "3             297      1             0.0               3.0  \n",
       "4             266      0             0.0               3.0  "
      ]
     },
     "execution_count": 17,
     "metadata": {},
     "output_type": "execute_result"
    }
   ],
   "source": [
    "finaldf = df.drop(['Gender', 'Location'], axis=1)\n",
    "finaldf.head()\n"
   ]
  },
  {
   "cell_type": "code",
   "execution_count": 18,
   "id": "2d811c18",
   "metadata": {},
   "outputs": [
    {
     "data": {
      "text/html": [
       "<div>\n",
       "<style scoped>\n",
       "    .dataframe tbody tr th:only-of-type {\n",
       "        vertical-align: middle;\n",
       "    }\n",
       "\n",
       "    .dataframe tbody tr th {\n",
       "        vertical-align: top;\n",
       "    }\n",
       "\n",
       "    .dataframe thead th {\n",
       "        text-align: right;\n",
       "    }\n",
       "</style>\n",
       "<table border=\"1\" class=\"dataframe\">\n",
       "  <thead>\n",
       "    <tr style=\"text-align: right;\">\n",
       "      <th></th>\n",
       "      <th>Age</th>\n",
       "      <th>Subscription_Length_Months</th>\n",
       "      <th>Monthly_Bill</th>\n",
       "      <th>gender_encoded</th>\n",
       "      <th>Location_encoded</th>\n",
       "    </tr>\n",
       "  </thead>\n",
       "  <tbody>\n",
       "    <tr>\n",
       "      <th>0</th>\n",
       "      <td>63</td>\n",
       "      <td>17</td>\n",
       "      <td>73.36</td>\n",
       "      <td>1.0</td>\n",
       "      <td>2.0</td>\n",
       "    </tr>\n",
       "    <tr>\n",
       "      <th>1</th>\n",
       "      <td>62</td>\n",
       "      <td>1</td>\n",
       "      <td>48.76</td>\n",
       "      <td>0.0</td>\n",
       "      <td>4.0</td>\n",
       "    </tr>\n",
       "    <tr>\n",
       "      <th>2</th>\n",
       "      <td>24</td>\n",
       "      <td>5</td>\n",
       "      <td>85.47</td>\n",
       "      <td>0.0</td>\n",
       "      <td>2.0</td>\n",
       "    </tr>\n",
       "    <tr>\n",
       "      <th>3</th>\n",
       "      <td>36</td>\n",
       "      <td>3</td>\n",
       "      <td>97.94</td>\n",
       "      <td>0.0</td>\n",
       "      <td>3.0</td>\n",
       "    </tr>\n",
       "    <tr>\n",
       "      <th>4</th>\n",
       "      <td>46</td>\n",
       "      <td>19</td>\n",
       "      <td>58.14</td>\n",
       "      <td>0.0</td>\n",
       "      <td>3.0</td>\n",
       "    </tr>\n",
       "    <tr>\n",
       "      <th>...</th>\n",
       "      <td>...</td>\n",
       "      <td>...</td>\n",
       "      <td>...</td>\n",
       "      <td>...</td>\n",
       "      <td>...</td>\n",
       "    </tr>\n",
       "    <tr>\n",
       "      <th>99995</th>\n",
       "      <td>33</td>\n",
       "      <td>23</td>\n",
       "      <td>55.13</td>\n",
       "      <td>1.0</td>\n",
       "      <td>1.0</td>\n",
       "    </tr>\n",
       "    <tr>\n",
       "      <th>99996</th>\n",
       "      <td>62</td>\n",
       "      <td>19</td>\n",
       "      <td>61.65</td>\n",
       "      <td>0.0</td>\n",
       "      <td>4.0</td>\n",
       "    </tr>\n",
       "    <tr>\n",
       "      <th>99997</th>\n",
       "      <td>64</td>\n",
       "      <td>17</td>\n",
       "      <td>96.11</td>\n",
       "      <td>1.0</td>\n",
       "      <td>0.0</td>\n",
       "    </tr>\n",
       "    <tr>\n",
       "      <th>99998</th>\n",
       "      <td>51</td>\n",
       "      <td>20</td>\n",
       "      <td>49.25</td>\n",
       "      <td>0.0</td>\n",
       "      <td>4.0</td>\n",
       "    </tr>\n",
       "    <tr>\n",
       "      <th>99999</th>\n",
       "      <td>27</td>\n",
       "      <td>19</td>\n",
       "      <td>76.57</td>\n",
       "      <td>0.0</td>\n",
       "      <td>2.0</td>\n",
       "    </tr>\n",
       "  </tbody>\n",
       "</table>\n",
       "<p>100000 rows × 5 columns</p>\n",
       "</div>"
      ],
      "text/plain": [
       "       Age  Subscription_Length_Months  Monthly_Bill  gender_encoded  \\\n",
       "0       63                          17         73.36             1.0   \n",
       "1       62                           1         48.76             0.0   \n",
       "2       24                           5         85.47             0.0   \n",
       "3       36                           3         97.94             0.0   \n",
       "4       46                          19         58.14             0.0   \n",
       "...    ...                         ...           ...             ...   \n",
       "99995   33                          23         55.13             1.0   \n",
       "99996   62                          19         61.65             0.0   \n",
       "99997   64                          17         96.11             1.0   \n",
       "99998   51                          20         49.25             0.0   \n",
       "99999   27                          19         76.57             0.0   \n",
       "\n",
       "       Location_encoded  \n",
       "0                   2.0  \n",
       "1                   4.0  \n",
       "2                   2.0  \n",
       "3                   3.0  \n",
       "4                   3.0  \n",
       "...                 ...  \n",
       "99995               1.0  \n",
       "99996               4.0  \n",
       "99997               0.0  \n",
       "99998               4.0  \n",
       "99999               2.0  \n",
       "\n",
       "[100000 rows x 5 columns]"
      ]
     },
     "execution_count": 18,
     "metadata": {},
     "output_type": "execute_result"
    }
   ],
   "source": [
    "x=finaldf.drop(['CustomerID', 'Name','Total_Usage_GB','Churn'], axis=1)\n",
    "x"
   ]
  },
  {
   "cell_type": "code",
   "execution_count": 19,
   "id": "f393a86c",
   "metadata": {},
   "outputs": [
    {
     "data": {
      "text/plain": [
       "0        0\n",
       "1        0\n",
       "2        0\n",
       "3        1\n",
       "4        0\n",
       "        ..\n",
       "99995    1\n",
       "99996    0\n",
       "99997    1\n",
       "99998    1\n",
       "99999    1\n",
       "Name: Churn, Length: 100000, dtype: int64"
      ]
     },
     "execution_count": 19,
     "metadata": {},
     "output_type": "execute_result"
    }
   ],
   "source": [
    "y=finaldf.iloc[:,6]\n",
    "y"
   ]
  },
  {
   "cell_type": "markdown",
   "id": "92e0f717",
   "metadata": {},
   "source": [
    "# Standardization"
   ]
  },
  {
   "cell_type": "code",
   "execution_count": 20,
   "id": "b48198c6",
   "metadata": {},
   "outputs": [],
   "source": [
    "from sklearn.preprocessing import StandardScaler\n",
    "sc=StandardScaler()\n",
    "x=sc.fit_transform(x)"
   ]
  },
  {
   "cell_type": "markdown",
   "id": "5456b31f",
   "metadata": {},
   "source": [
    "# MODEL BUILDING"
   ]
  },
  {
   "cell_type": "markdown",
   "id": "c6760a26",
   "metadata": {},
   "source": [
    "## Train Test Split"
   ]
  },
  {
   "cell_type": "code",
   "execution_count": 21,
   "id": "7e232ff3",
   "metadata": {},
   "outputs": [],
   "source": [
    "from sklearn.model_selection import train_test_split"
   ]
  },
  {
   "cell_type": "code",
   "execution_count": 22,
   "id": "ca700eb9",
   "metadata": {},
   "outputs": [],
   "source": [
    "xtrain,xtest,ytrain,ytest=train_test_split(x,y,test_size=0.20)"
   ]
  },
  {
   "cell_type": "code",
   "execution_count": 23,
   "id": "f005b4d1",
   "metadata": {},
   "outputs": [],
   "source": [
    "from sklearn.metrics import accuracy_score,precision_score,recall_score\n",
    "from sklearn.neighbors import KNeighborsClassifier\n",
    "from sklearn.tree import DecisionTreeClassifier\n",
    "from sklearn.ensemble import RandomForestClassifier,AdaBoostClassifier\n",
    "from sklearn.svm import SVC\n",
    "from sklearn.model_selection import RandomizedSearchCV\n",
    "from xgboost import XGBClassifier\n",
    "from sklearn.linear_model import LogisticRegression\n",
    "import warnings"
   ]
  },
  {
   "cell_type": "code",
   "execution_count": 24,
   "id": "9ed155cf",
   "metadata": {},
   "outputs": [],
   "source": [
    "def evaluate_model(true,predicted):\n",
    "    accuracy=accuracy_score(true,predicted)\n",
    "    recall=recall_score(true,predicted)\n",
    "    precision=precision_score(true,predicted)\n",
    "    return accuracy,recall,precision"
   ]
  },
  {
   "cell_type": "code",
   "execution_count": 25,
   "id": "bc704588",
   "metadata": {
    "scrolled": false
   },
   "outputs": [
    {
     "name": "stdout",
     "output_type": "stream",
     "text": [
      "Logistic Regression\n",
      "Model performance for Training set\n",
      "- Accuracy: 0.5039\n",
      "- Recall: 0.3762\n",
      "- Precison : 0.5030\n",
      "----------------------------------\n",
      "Model performance for Test set\n",
      "- Accuracy: 0.5027\n",
      "- Recall: 0.3758\n",
      "- Precsion: 0.4979\n",
      "===================================\n",
      "\n",
      "\n",
      "K-Neighbors Classifier\n",
      "Model performance for Training set\n",
      "- Accuracy: 0.6846\n",
      "- Recall: 0.6821\n",
      "- Precison : 0.6841\n",
      "----------------------------------\n",
      "Model performance for Test set\n",
      "- Accuracy: 0.4979\n",
      "- Recall: 0.4893\n",
      "- Precsion: 0.4936\n",
      "===================================\n",
      "\n",
      "\n",
      "Decision Tree\n",
      "Model performance for Training set\n",
      "- Accuracy: 0.9998\n",
      "- Recall: 0.9995\n",
      "- Precison : 1.0000\n",
      "----------------------------------\n",
      "Model performance for Test set\n",
      "- Accuracy: 0.4985\n",
      "- Recall: 0.4984\n",
      "- Precsion: 0.4943\n",
      "===================================\n",
      "\n",
      "\n",
      "Random Forest Classifier\n",
      "Model performance for Training set\n",
      "- Accuracy: 0.9998\n",
      "- Recall: 0.9998\n",
      "- Precison : 0.9998\n",
      "----------------------------------\n",
      "Model performance for Test set\n",
      "- Accuracy: 0.4990\n",
      "- Recall: 0.4908\n",
      "- Precsion: 0.4948\n",
      "===================================\n",
      "\n",
      "\n",
      "XtraGradientBoosting\n",
      "Model performance for Training set\n",
      "- Accuracy: 0.6311\n",
      "- Recall: 0.6040\n",
      "- Precison : 0.6369\n",
      "----------------------------------\n",
      "Model performance for Test set\n",
      "- Accuracy: 0.4966\n",
      "- Recall: 0.4669\n",
      "- Precsion: 0.4920\n",
      "===================================\n",
      "\n",
      "\n",
      "AdaBoost Classifier\n",
      "Model performance for Training set\n",
      "- Accuracy: 0.5135\n",
      "- Recall: 0.4286\n",
      "- Precison : 0.5143\n",
      "----------------------------------\n",
      "Model performance for Test set\n",
      "- Accuracy: 0.5024\n",
      "- Recall: 0.4173\n",
      "- Precsion: 0.4978\n",
      "===================================\n",
      "\n",
      "\n"
     ]
    }
   ],
   "source": [
    "models = {\n",
    "    \"Logistic Regression\": LogisticRegression(),\n",
    "    \"K-Neighbors Classifier\": KNeighborsClassifier(),\n",
    "    \"Decision Tree\": DecisionTreeClassifier(),\n",
    "    \"Random Forest Classifier\": RandomForestClassifier(),\n",
    "    \"XtraGradientBoosting\": XGBClassifier(), \n",
    "    \"AdaBoost Classifier\": AdaBoostClassifier()\n",
    "}\n",
    "\n",
    "model_list = []\n",
    "accuracy_list = []\n",
    "\n",
    "\n",
    "\n",
    "for i in range(len(list(models))):\n",
    "\n",
    "\n",
    "    model = list(models.values())[i]\n",
    "    model.fit(xtrain, ytrain)\n",
    "\n",
    "\n",
    "    y_train_pred = model.predict(xtrain)\n",
    "    y_test_pred = model.predict(xtest)\n",
    "    \n",
    "\n",
    "    model_train_accuracy, model_train_recall, model_train_precision = evaluate_model(ytrain, y_train_pred)\n",
    "    model_test_accuracy, model_test_recall, model_test_precision = evaluate_model(ytest, y_test_pred)\n",
    "    \n",
    "\n",
    "    print(list(models.keys())[i])\n",
    "    model_list.append(list(models.keys())[i])\n",
    "    \n",
    "    print('Model performance for Training set')\n",
    "    print(\"- Accuracy: {:.4f}\".format(model_train_accuracy))\n",
    "    print(\"- Recall: {:.4f}\".format(model_train_recall))\n",
    "    print(\"- Precison : {:.4f}\".format(model_train_precision))\n",
    "\n",
    "    print('----------------------------------')\n",
    "    \n",
    "    print('Model performance for Test set')\n",
    "    print(\"- Accuracy: {:.4f}\".format(model_test_accuracy))\n",
    "    print(\"- Recall: {:.4f}\".format(model_test_recall))\n",
    "    print(\"- Precsion: {:.4f}\".format(model_test_precision))\n",
    "    accuracy_list.append(model_test_accuracy)\n",
    "    \n",
    "\n",
    "    \n",
    "    print('='*35)\n",
    "    print('\\n')\n"
   ]
  },
  {
   "cell_type": "markdown",
   "id": "a6d1e815",
   "metadata": {},
   "source": [
    "## HyperParameter tuning"
   ]
  },
  {
   "cell_type": "code",
   "execution_count": 26,
   "id": "bacc5f94",
   "metadata": {},
   "outputs": [
    {
     "name": "stdout",
     "output_type": "stream",
     "text": [
      "Best Hyperparameters: {'max_depth': 10, 'min_samples_split': 5, 'n_estimators': 50}\n",
      "Test Accuracy: 0.5003\n"
     ]
    }
   ],
   "source": [
    "from sklearn.model_selection import GridSearchCV\n",
    "\n",
    "\n",
    "model = RandomForestClassifier()\n",
    "param_grid = {\n",
    "    'n_estimators': [10, 50, 100],\n",
    "    'max_depth': [None, 10, 20],\n",
    "    'min_samples_split': [2, 5, 10]\n",
    "}\n",
    "\n",
    "grid_search = GridSearchCV(estimator=model, param_grid=param_grid, cv=5, scoring='accuracy')\n",
    "\n",
    "grid_search.fit(xtrain, ytrain)\n",
    "\n",
    "best_params = grid_search.best_params_\n",
    "best_model = grid_search.best_estimator_\n",
    "\n",
    "test_accuracy = best_model.score(xtest, ytest)\n",
    "\n",
    "print(f\"Best Hyperparameters: {best_params}\")\n",
    "print(f\"Test Accuracy: {test_accuracy}\")\n"
   ]
  },
  {
   "cell_type": "markdown",
   "id": "16ba7b98",
   "metadata": {},
   "source": [
    "## Cross Validation"
   ]
  },
  {
   "cell_type": "code",
   "execution_count": 27,
   "id": "66014131",
   "metadata": {},
   "outputs": [
    {
     "name": "stdout",
     "output_type": "stream",
     "text": [
      "Average Accuracy: 0.50061\n"
     ]
    }
   ],
   "source": [
    "import numpy as np\n",
    "from sklearn.model_selection import KFold\n",
    "from sklearn.metrics import accuracy_score\n",
    "\n",
    "num_folds = 5\n",
    "\n",
    "\n",
    "kf = KFold(n_splits=num_folds, shuffle=True, random_state=42)\n",
    "scores = []\n",
    "\n",
    "for train_index, test_index in kf.split(x):\n",
    "    xtrain, xtest = x[train_index], x[test_index]\n",
    "    ytrain, ytest = y[train_index], y[test_index]\n",
    "    model = RandomForestClassifier(max_depth =10, min_samples_split =2, n_estimators=10)\n",
    "    model.fit(xtrain, ytrain)\n",
    "\n",
    "    y_pred = model.predict(xtest)\n",
    "\n",
    "    accuracy = accuracy_score(ytest, y_pred)\n",
    "    \n",
    "    scores.append(accuracy)\n",
    "average_score = np.mean(scores)\n",
    "print(f'Average Accuracy: {average_score}')"
   ]
  },
  {
   "cell_type": "markdown",
   "id": "c95e68f2",
   "metadata": {},
   "source": [
    "# So Random Forest Classifier can be used to predict the CHURN output"
   ]
  },
  {
   "cell_type": "code",
   "execution_count": 28,
   "id": "1ba24f72",
   "metadata": {},
   "outputs": [
    {
     "data": {
      "text/plain": [
       "(80000, 5)"
      ]
     },
     "execution_count": 28,
     "metadata": {},
     "output_type": "execute_result"
    }
   ],
   "source": [
    "xtrain.shape"
   ]
  },
  {
   "cell_type": "markdown",
   "id": "d7781e09",
   "metadata": {},
   "source": [
    "# DEEP LEARNING"
   ]
  },
  {
   "cell_type": "markdown",
   "id": "c4e816ba",
   "metadata": {},
   "source": [
    "# Artificial Neural Network"
   ]
  },
  {
   "cell_type": "code",
   "execution_count": 29,
   "id": "95886c9e",
   "metadata": {},
   "outputs": [],
   "source": [
    "from tensorflow.keras.models import Sequential\n",
    "from tensorflow.keras.layers import Dense\n",
    "from tensorflow.keras.layers import LeakyReLU,PReLU,ELU,ReLU\n",
    "from tensorflow.keras.layers import Dropout"
   ]
  },
  {
   "cell_type": "code",
   "execution_count": 30,
   "id": "fd856d2d",
   "metadata": {},
   "outputs": [],
   "source": [
    "classifier=Sequential()\n",
    "#Adding input layer\n",
    "#11 units from th eshape of the layers of  the columns from the train shape\n",
    "#Activation fn is ReLU will b eapplied for the Input layer\n",
    "\n",
    "classifier.add(Dense(units=6,activation='relu'))\n",
    "\n",
    "classifier.add(Dense(units=4,activation='relu'))\n",
    "\n",
    "classifier.add(Dense(units=3,activation='relu'))\n",
    "\n",
    "classifier.add(Dense(1,activation='sigmoid'))\n",
    "\n",
    "classifier.compile(optimizer='adam',loss='binary_crossentropy',metrics=['accuracy'])"
   ]
  },
  {
   "cell_type": "markdown",
   "id": "8da587e0",
   "metadata": {},
   "source": []
  },
  {
   "cell_type": "code",
   "execution_count": 31,
   "id": "36a3951e",
   "metadata": {},
   "outputs": [
    {
     "name": "stdout",
     "output_type": "stream",
     "text": [
      "Epoch 1/45\n",
      "5360/5360 [==============================] - 12s 2ms/step - loss: 0.6939 - accuracy: 0.5007 - val_loss: 0.6932 - val_accuracy: 0.5045\n",
      "Epoch 2/45\n",
      "5360/5360 [==============================] - 10s 2ms/step - loss: 0.6931 - accuracy: 0.5012 - val_loss: 0.6937 - val_accuracy: 0.5045\n",
      "Epoch 3/45\n",
      "5360/5360 [==============================] - 10s 2ms/step - loss: 0.6932 - accuracy: 0.5022 - val_loss: 0.6932 - val_accuracy: 0.5045\n",
      "Epoch 4/45\n",
      "5360/5360 [==============================] - 13s 2ms/step - loss: 0.6932 - accuracy: 0.5003 - val_loss: 0.6932 - val_accuracy: 0.5045\n",
      "Epoch 5/45\n",
      "5360/5360 [==============================] - 10s 2ms/step - loss: 0.6931 - accuracy: 0.5004 - val_loss: 0.6932 - val_accuracy: 0.4960\n",
      "Epoch 6/45\n",
      "5360/5360 [==============================] - 9s 2ms/step - loss: 0.6931 - accuracy: 0.5005 - val_loss: 0.6931 - val_accuracy: 0.5045\n",
      "Epoch 7/45\n",
      "5360/5360 [==============================] - 10s 2ms/step - loss: 0.6931 - accuracy: 0.4985 - val_loss: 0.6933 - val_accuracy: 0.5045\n",
      "Epoch 8/45\n",
      "5360/5360 [==============================] - 10s 2ms/step - loss: 0.6931 - accuracy: 0.5019 - val_loss: 0.6932 - val_accuracy: 0.5045\n",
      "Epoch 9/45\n",
      "5360/5360 [==============================] - 9s 2ms/step - loss: 0.6931 - accuracy: 0.4979 - val_loss: 0.6933 - val_accuracy: 0.4967\n",
      "Epoch 10/45\n",
      "5360/5360 [==============================] - 10s 2ms/step - loss: 0.6930 - accuracy: 0.5007 - val_loss: 0.6933 - val_accuracy: 0.4959\n",
      "Epoch 11/45\n",
      "5360/5360 [==============================] - 10s 2ms/step - loss: 0.6930 - accuracy: 0.5058 - val_loss: 0.6932 - val_accuracy: 0.5045\n",
      "Epoch 12/45\n",
      "5360/5360 [==============================] - 10s 2ms/step - loss: 0.6930 - accuracy: 0.5008 - val_loss: 0.6934 - val_accuracy: 0.5045\n",
      "Epoch 13/45\n",
      "5360/5360 [==============================] - 10s 2ms/step - loss: 0.6930 - accuracy: 0.5019 - val_loss: 0.6935 - val_accuracy: 0.4948\n",
      "Epoch 14/45\n",
      "5360/5360 [==============================] - 10s 2ms/step - loss: 0.6929 - accuracy: 0.5038 - val_loss: 0.6935 - val_accuracy: 0.5023\n",
      "Epoch 15/45\n",
      "5360/5360 [==============================] - 10s 2ms/step - loss: 0.6929 - accuracy: 0.5027 - val_loss: 0.6934 - val_accuracy: 0.4943\n",
      "Epoch 16/45\n",
      "5360/5360 [==============================] - 10s 2ms/step - loss: 0.6929 - accuracy: 0.5050 - val_loss: 0.6937 - val_accuracy: 0.5021\n",
      "Epoch 17/45\n",
      "5360/5360 [==============================] - 10s 2ms/step - loss: 0.6929 - accuracy: 0.5028 - val_loss: 0.6937 - val_accuracy: 0.5045\n",
      "Epoch 18/45\n",
      "5360/5360 [==============================] - 9s 2ms/step - loss: 0.6930 - accuracy: 0.5011 - val_loss: 0.6934 - val_accuracy: 0.4974\n",
      "Epoch 19/45\n",
      "5360/5360 [==============================] - 10s 2ms/step - loss: 0.6929 - accuracy: 0.5057 - val_loss: 0.6933 - val_accuracy: 0.5045\n",
      "Epoch 20/45\n",
      "5360/5360 [==============================] - 10s 2ms/step - loss: 0.6929 - accuracy: 0.5041 - val_loss: 0.6933 - val_accuracy: 0.4953\n",
      "Epoch 21/45\n",
      "5360/5360 [==============================] - 10s 2ms/step - loss: 0.6928 - accuracy: 0.5062 - val_loss: 0.6933 - val_accuracy: 0.4981\n",
      "Epoch 22/45\n",
      "5360/5360 [==============================] - 10s 2ms/step - loss: 0.6929 - accuracy: 0.5061 - val_loss: 0.6938 - val_accuracy: 0.4943\n",
      "Epoch 23/45\n",
      "5360/5360 [==============================] - 10s 2ms/step - loss: 0.6928 - accuracy: 0.5039 - val_loss: 0.6937 - val_accuracy: 0.4965\n",
      "Epoch 24/45\n",
      "5360/5360 [==============================] - 9s 2ms/step - loss: 0.6928 - accuracy: 0.5063 - val_loss: 0.6938 - val_accuracy: 0.5045\n",
      "Epoch 25/45\n",
      "5360/5360 [==============================] - 9s 2ms/step - loss: 0.6928 - accuracy: 0.5062 - val_loss: 0.6934 - val_accuracy: 0.4981\n",
      "Epoch 26/45\n",
      "5360/5360 [==============================] - 10s 2ms/step - loss: 0.6928 - accuracy: 0.5064 - val_loss: 0.6935 - val_accuracy: 0.4976\n",
      "Epoch 27/45\n",
      "5360/5360 [==============================] - 9s 2ms/step - loss: 0.6928 - accuracy: 0.5039 - val_loss: 0.6933 - val_accuracy: 0.4960\n",
      "Epoch 28/45\n",
      "5360/5360 [==============================] - 10s 2ms/step - loss: 0.6928 - accuracy: 0.5020 - val_loss: 0.6933 - val_accuracy: 0.4960\n",
      "Epoch 29/45\n",
      "5360/5360 [==============================] - 9s 2ms/step - loss: 0.6928 - accuracy: 0.5056 - val_loss: 0.6934 - val_accuracy: 0.4961\n",
      "Epoch 30/45\n",
      "5360/5360 [==============================] - 9s 2ms/step - loss: 0.6928 - accuracy: 0.5013 - val_loss: 0.6935 - val_accuracy: 0.5045\n",
      "Epoch 31/45\n",
      "5360/5360 [==============================] - 9s 2ms/step - loss: 0.6927 - accuracy: 0.5048 - val_loss: 0.6935 - val_accuracy: 0.4951\n",
      "Epoch 32/45\n",
      "5360/5360 [==============================] - 9s 2ms/step - loss: 0.6928 - accuracy: 0.5056 - val_loss: 0.6936 - val_accuracy: 0.4952\n",
      "Epoch 33/45\n",
      "5360/5360 [==============================] - 9s 2ms/step - loss: 0.6929 - accuracy: 0.5083 - val_loss: 0.6937 - val_accuracy: 0.4976\n",
      "Epoch 34/45\n",
      "5360/5360 [==============================] - 9s 2ms/step - loss: 0.6927 - accuracy: 0.5051 - val_loss: 0.6937 - val_accuracy: 0.4941\n",
      "Epoch 35/45\n",
      "5360/5360 [==============================] - 10s 2ms/step - loss: 0.6927 - accuracy: 0.5067 - val_loss: 0.6937 - val_accuracy: 0.4968\n",
      "Epoch 36/45\n",
      "5360/5360 [==============================] - 10s 2ms/step - loss: 0.6927 - accuracy: 0.5062 - val_loss: 0.6937 - val_accuracy: 0.4978\n",
      "Epoch 37/45\n",
      "5360/5360 [==============================] - 10s 2ms/step - loss: 0.6927 - accuracy: 0.5059 - val_loss: 0.6941 - val_accuracy: 0.4961\n",
      "Epoch 38/45\n",
      "5360/5360 [==============================] - 9s 2ms/step - loss: 0.6928 - accuracy: 0.5027 - val_loss: 0.6938 - val_accuracy: 0.4957\n",
      "Epoch 39/45\n",
      "5360/5360 [==============================] - 9s 2ms/step - loss: 0.6927 - accuracy: 0.5066 - val_loss: 0.6934 - val_accuracy: 0.4984\n",
      "Epoch 40/45\n",
      "5360/5360 [==============================] - 9s 2ms/step - loss: 0.6927 - accuracy: 0.5062 - val_loss: 0.6936 - val_accuracy: 0.4952\n",
      "Epoch 41/45\n",
      "5360/5360 [==============================] - 10s 2ms/step - loss: 0.6926 - accuracy: 0.5056 - val_loss: 0.6935 - val_accuracy: 0.4970\n",
      "Epoch 42/45\n",
      "5360/5360 [==============================] - 9s 2ms/step - loss: 0.6928 - accuracy: 0.5045 - val_loss: 0.6934 - val_accuracy: 0.4966\n",
      "Epoch 43/45\n",
      "5360/5360 [==============================] - 9s 2ms/step - loss: 0.6928 - accuracy: 0.5016 - val_loss: 0.6935 - val_accuracy: 0.4964\n",
      "Epoch 44/45\n",
      "5360/5360 [==============================] - 10s 2ms/step - loss: 0.6927 - accuracy: 0.5081 - val_loss: 0.6933 - val_accuracy: 0.5045\n",
      "Epoch 45/45\n",
      "5360/5360 [==============================] - 9s 2ms/step - loss: 0.6927 - accuracy: 0.5046 - val_loss: 0.6940 - val_accuracy: 0.4966\n"
     ]
    }
   ],
   "source": [
    "model_h  =classifier.fit(xtrain,ytrain,validation_split=0.33,batch_size=10,epochs=45)"
   ]
  },
  {
   "cell_type": "code",
   "execution_count": 32,
   "id": "2e871a41",
   "metadata": {},
   "outputs": [
    {
     "data": {
      "text/plain": [
       "dict_keys(['loss', 'accuracy', 'val_loss', 'val_accuracy'])"
      ]
     },
     "execution_count": 32,
     "metadata": {},
     "output_type": "execute_result"
    }
   ],
   "source": [
    "model_h.history.keys()"
   ]
  },
  {
   "cell_type": "code",
   "execution_count": 33,
   "id": "2312e28b",
   "metadata": {},
   "outputs": [
    {
     "name": "stdout",
     "output_type": "stream",
     "text": [
      "625/625 [==============================] - 1s 924us/step\n"
     ]
    }
   ],
   "source": [
    "y_pred=classifier.predict(xtest)\n",
    "y_pred=(y_pred>=0.5)"
   ]
  },
  {
   "cell_type": "code",
   "execution_count": 34,
   "id": "d459f44b",
   "metadata": {
    "scrolled": true
   },
   "outputs": [
    {
     "name": "stdout",
     "output_type": "stream",
     "text": [
      "[[2066 7858]\n",
      " [2016 8060]]\n"
     ]
    }
   ],
   "source": [
    "from sklearn.metrics import confusion_matrix\n",
    "cm=confusion_matrix(ytest,y_pred)\n",
    "print(cm)"
   ]
  },
  {
   "cell_type": "code",
   "execution_count": 35,
   "id": "d7144ea5",
   "metadata": {},
   "outputs": [],
   "source": [
    "from sklearn.metrics import accuracy_score"
   ]
  },
  {
   "cell_type": "code",
   "execution_count": 36,
   "id": "84d44e55",
   "metadata": {},
   "outputs": [],
   "source": [
    "score=accuracy_score(y_pred,ytest)"
   ]
  },
  {
   "cell_type": "code",
   "execution_count": 37,
   "id": "0f6431fe",
   "metadata": {},
   "outputs": [
    {
     "data": {
      "text/plain": [
       "0.5063"
      ]
     },
     "execution_count": 37,
     "metadata": {},
     "output_type": "execute_result"
    }
   ],
   "source": [
    "score"
   ]
  },
  {
   "cell_type": "markdown",
   "id": "40e6a5c9",
   "metadata": {},
   "source": [
    "# Conclusion: Both Random Forest Classifier as well as ANN can be used to predict the CHURN output."
   ]
  },
  {
   "cell_type": "code",
   "execution_count": null,
   "id": "f114f86a",
   "metadata": {},
   "outputs": [],
   "source": []
  }
 ],
 "metadata": {
  "kernelspec": {
   "display_name": "Python 3 (ipykernel)",
   "language": "python",
   "name": "python3"
  },
  "language_info": {
   "codemirror_mode": {
    "name": "ipython",
    "version": 3
   },
   "file_extension": ".py",
   "mimetype": "text/x-python",
   "name": "python",
   "nbconvert_exporter": "python",
   "pygments_lexer": "ipython3",
   "version": "3.9.12"
  }
 },
 "nbformat": 4,
 "nbformat_minor": 5
}
